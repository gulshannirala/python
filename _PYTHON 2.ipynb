{
 "cells": [
  {
   "cell_type": "raw",
   "id": "97a1d48f",
   "metadata": {},
   "source": [
    "1.\n",
    "a)Define a 'Int' variable and convert it to String.\n",
    "b)Define a string and find the length of a string\n",
    "c)Define a string and find the type of that variable.\n",
    "d)Take an string input and convert it to int.\n",
    "\n",
    "2.Take a string and perform below action for the string\n",
    "a)Check a particular word's existence in your string.\n",
    "b)Count the number of letters in your string\n",
    "c)Replace a particular word with another word\n",
    "d)Convert all to upper case\n",
    "e)print all letters except last 1\n",
    "\n",
    "3.Take weight as Input and if its in pound convert to Kg and vice versa.Print some meaningful messages.\n",
    "\n",
    "4.Write a Python code to represent the below logic.\n",
    "student fee = 100000\n",
    "If Student has good grade give him 20% discount and if not give him 10% discount. Print the student fee.\n",
    "\n",
    "5. Give examples for While and For loop with Break and Continue statement."
   ]
  },
  {
   "cell_type": "code",
   "execution_count": 89,
   "id": "552d32bf",
   "metadata": {},
   "outputs": [],
   "source": [
    "#1\n",
    "#a)\n",
    "age=18"
   ]
  },
  {
   "cell_type": "code",
   "execution_count": 90,
   "id": "2cfa436a",
   "metadata": {},
   "outputs": [
    {
     "data": {
      "text/plain": [
       "18"
      ]
     },
     "execution_count": 90,
     "metadata": {},
     "output_type": "execute_result"
    }
   ],
   "source": [
    "age"
   ]
  },
  {
   "cell_type": "code",
   "execution_count": 91,
   "id": "01ca7463",
   "metadata": {},
   "outputs": [
    {
     "data": {
      "text/plain": [
       "int"
      ]
     },
     "execution_count": 91,
     "metadata": {},
     "output_type": "execute_result"
    }
   ],
   "source": [
    "type(age)"
   ]
  },
  {
   "cell_type": "code",
   "execution_count": 92,
   "id": "181140eb",
   "metadata": {},
   "outputs": [],
   "source": [
    "strage=str(age)"
   ]
  },
  {
   "cell_type": "code",
   "execution_count": 93,
   "id": "3ba13ceb",
   "metadata": {},
   "outputs": [
    {
     "data": {
      "text/plain": [
       "str"
      ]
     },
     "execution_count": 93,
     "metadata": {},
     "output_type": "execute_result"
    }
   ],
   "source": [
    "type(strage)"
   ]
  },
  {
   "cell_type": "code",
   "execution_count": 94,
   "id": "febe20d4",
   "metadata": {},
   "outputs": [
    {
     "data": {
      "text/plain": [
       "32"
      ]
     },
     "execution_count": 94,
     "metadata": {},
     "output_type": "execute_result"
    }
   ],
   "source": [
    "#b)Define a string and find the length of a string\n",
    "\n",
    "a=\"python is a programming language\"\n",
    "len(a)"
   ]
  },
  {
   "cell_type": "code",
   "execution_count": 95,
   "id": "211fb9b5",
   "metadata": {},
   "outputs": [
    {
     "data": {
      "text/plain": [
       "str"
      ]
     },
     "execution_count": 95,
     "metadata": {},
     "output_type": "execute_result"
    }
   ],
   "source": [
    "#c)Define a string and find the type of that variable.\n",
    "\n",
    "g=\"Bhubaneswar is my current location\"\n",
    "type(g)"
   ]
  },
  {
   "cell_type": "code",
   "execution_count": 96,
   "id": "3371f565",
   "metadata": {},
   "outputs": [
    {
     "name": "stdout",
     "output_type": "stream",
     "text": [
      "what is your age?6\n"
     ]
    },
    {
     "data": {
      "text/plain": [
       "str"
      ]
     },
     "execution_count": 96,
     "metadata": {},
     "output_type": "execute_result"
    }
   ],
   "source": [
    "#d)Take an string input and convert it to int.\n",
    "\n",
    "x=input(\"what is your age?\")\n",
    "type(x)"
   ]
  },
  {
   "cell_type": "code",
   "execution_count": 97,
   "id": "c47f82be",
   "metadata": {},
   "outputs": [
    {
     "name": "stdout",
     "output_type": "stream",
     "text": [
      "6\n"
     ]
    }
   ],
   "source": [
    "print(x)"
   ]
  },
  {
   "cell_type": "code",
   "execution_count": 98,
   "id": "b5a9fc55",
   "metadata": {},
   "outputs": [
    {
     "data": {
      "text/plain": [
       "int"
      ]
     },
     "execution_count": 98,
     "metadata": {},
     "output_type": "execute_result"
    }
   ],
   "source": [
    "type(18)"
   ]
  },
  {
   "cell_type": "code",
   "execution_count": 99,
   "id": "59a79204",
   "metadata": {},
   "outputs": [
    {
     "name": "stdout",
     "output_type": "stream",
     "text": [
      "True\n"
     ]
    }
   ],
   "source": [
    "#2\n",
    "#a)Check a particular word's existence in your string.\n",
    "\n",
    "x=\"i know both ram and shyam\"\n",
    "print(\"ram\" in x)"
   ]
  },
  {
   "cell_type": "code",
   "execution_count": 100,
   "id": "fcba3479",
   "metadata": {},
   "outputs": [
    {
     "name": "stdout",
     "output_type": "stream",
     "text": [
      "0\n",
      "2\n",
      "3\n",
      "4\n",
      "5\n",
      "7\n",
      "8\n",
      "9\n",
      "10\n",
      "12\n",
      "13\n",
      "14\n",
      "16\n",
      "17\n",
      "18\n",
      "20\n",
      "21\n",
      "22\n",
      "23\n",
      "24\n"
     ]
    }
   ],
   "source": [
    "#b)Count the number of letters in your string\n",
    "for i in range(0, len(x)):\n",
    "    if(x[i] != ' '):\n",
    "        count =\"count + 1\"\n",
    "        print(i)"
   ]
  },
  {
   "cell_type": "code",
   "execution_count": 101,
   "id": "e7f7ab3a",
   "metadata": {},
   "outputs": [
    {
     "data": {
      "text/plain": [
       "'i know both mohan and shyam'"
      ]
     },
     "execution_count": 101,
     "metadata": {},
     "output_type": "execute_result"
    }
   ],
   "source": [
    "#c)Replace a particular word with another word\n",
    "\n",
    "x.replace('ram','mohan')"
   ]
  },
  {
   "cell_type": "code",
   "execution_count": 102,
   "id": "518c2ed9",
   "metadata": {},
   "outputs": [
    {
     "data": {
      "text/plain": [
       "'I KNOW BOTH RAM AND SHYAM'"
      ]
     },
     "execution_count": 102,
     "metadata": {},
     "output_type": "execute_result"
    }
   ],
   "source": [
    "#d)Convert all to upper case\n",
    "x.upper()"
   ]
  },
  {
   "cell_type": "code",
   "execution_count": 103,
   "id": "d82a98c4",
   "metadata": {},
   "outputs": [
    {
     "data": {
      "text/plain": [
       "'i know both ram and shya'"
      ]
     },
     "execution_count": 103,
     "metadata": {},
     "output_type": "execute_result"
    }
   ],
   "source": [
    "#e)print all letters except last 1\n",
    "\n",
    "x[:-1]"
   ]
  },
  {
   "cell_type": "code",
   "execution_count": 104,
   "id": "16c28416",
   "metadata": {},
   "outputs": [
    {
     "data": {
      "text/plain": [
       "'i know both ram and shya'"
      ]
     },
     "execution_count": 104,
     "metadata": {},
     "output_type": "execute_result"
    }
   ],
   "source": [
    "x[0:len(x)-1]"
   ]
  },
  {
   "cell_type": "code",
   "execution_count": 105,
   "id": "ba31f650",
   "metadata": {},
   "outputs": [
    {
     "name": "stdout",
     "output_type": "stream",
     "text": [
      "Enter 1 for pounds and 2 for kg2\n",
      "Enter weight in kg 4\n",
      "weight in kilograms: 4.0 and afer conversion 8.8\n"
     ]
    }
   ],
   "source": [
    "ch=int(input(\"Enter 1 for pounds and 2 for kg\"))\n",
    "if(ch==1):\n",
    "    weight=float(input(\"Enter weight in pounds \"))\n",
    "    conversion=weight/2.2046\n",
    "    print('weight in pounds:' ,weight ,'and afer conversion',conversion)\n",
    "elif(ch==2):\n",
    "        weight1=float(input(\"Enter weight in kg \"))\n",
    "        conver=weight1*2.2\n",
    "        print('weight in kilograms:',weight1, 'and afer conversion',conver)"
   ]
  },
  {
   "cell_type": "code",
   "execution_count": 110,
   "id": "df624f4d",
   "metadata": {},
   "outputs": [
    {
     "name": "stdout",
     "output_type": "stream",
     "text": [
      "Enter Students grade: a\n",
      "Student has a good grade and will get a discount of 20%\n",
      "Discounted fees: 80000.0\n"
     ]
    }
   ],
   "source": [
    "#4.Write a Python code to represent the below logic.\n",
    "#student fee = 100000\n",
    "#If Student has good grade give him 20% discount and if not give him 10% discount. Print the student fee.\n",
    "\n",
    "\n",
    "Student_fee=100000\n",
    "grade=str(input(\"Enter Students grade: \"))\n",
    "if(grade=='a'or grade=='A'):\n",
    "    print(\"Student has a good grade and will get a discount of 20%\")\n",
    "    fee=Student_fee-((Student_fee*20)/100)\n",
    "    print(\"Discounted fees:\",fee)\n",
    "else:\n",
    "        print(\"Student does not have a good grade and will get a discount of only 10%\")\n",
    "        fee=Student_fee-((Student_fee*10)/100)\n",
    "        print(\"Discounted fees:\",fee)"
   ]
  },
  {
   "cell_type": "code",
   "execution_count": 111,
   "id": "3bfa4da9",
   "metadata": {},
   "outputs": [
    {
     "name": "stdout",
     "output_type": "stream",
     "text": [
      "For continue statement\n",
      "\n"
     ]
    }
   ],
   "source": [
    "#5. Give examples for While and For loop with Break and Continue statement.\n",
    "\n",
    "#Example of for loop\n",
    "a=[1,2,3,4,5]\n",
    "print(\"For continue statement\\n\")\n",
    "for i in a:\n",
    "    if i==2:\n",
    "        continue\n",
    "        print(i)\n",
    "        print(\"For break statement\\n\")\n",
    "        for i in a:\n",
    "            if i==4:\n",
    "                break\n",
    "                print(i)\n",
    "                print(\"-------------------------------\")\n",
    "                #Example of while loop\n",
    "                y=1\n",
    "                print(\"For break statement\\n\")\n",
    "                while y<6:\n",
    "                    print(y)\n",
    "                    if y==2:\n",
    "                        break\n",
    "                        y+=1\n",
    "                        print(\"For continue statement\\n\")\n",
    "                        y=1\n",
    "                        while y<6:\n",
    "                            y=y+1\n",
    "                            if y==0:\n",
    "                                continue\n",
    "                                print(y)"
   ]
  },
  {
   "cell_type": "code",
   "execution_count": null,
   "id": "01adf5cc",
   "metadata": {},
   "outputs": [],
   "source": []
  },
  {
   "cell_type": "code",
   "execution_count": null,
   "id": "bea1719a",
   "metadata": {},
   "outputs": [],
   "source": []
  }
 ],
 "metadata": {
  "kernelspec": {
   "display_name": "Python 3",
   "language": "python",
   "name": "python3"
  },
  "language_info": {
   "codemirror_mode": {
    "name": "ipython",
    "version": 3
   },
   "file_extension": ".py",
   "mimetype": "text/x-python",
   "name": "python",
   "nbconvert_exporter": "python",
   "pygments_lexer": "ipython3",
   "version": "3.9.1"
  }
 },
 "nbformat": 4,
 "nbformat_minor": 5
}
