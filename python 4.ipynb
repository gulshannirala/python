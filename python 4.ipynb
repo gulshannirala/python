{
 "cells": [
  {
   "cell_type": "markdown",
   "id": "311863b2",
   "metadata": {},
   "source": [
    "1.Define a List with couple of items and do the below\n",
    "a)Change the last item in your list\n",
    "b)Remove the 3rd item from your list\n",
    "c)sort your list on descending\n",
    "d)Change the second value in your list by replacing it with 2 new values.\n",
    "e)Add a new item in the 3rd index without replacing any of the values.\n",
    "\n",
    "2.Define a Tuple with couple of items and do the below\n",
    "a)Add a new item to the Tuple\n",
    "b)remove the second item from the tuple\n",
    "c)Unpack the tuple to different variables.\n",
    "d)From your list items, upack last 3 items to a sigle variable.\n",
    "\n",
    "3.Answer the below questions\n",
    "a)Dictionary data type allows duplicates, True or False\n",
    "b)Tuple is ordered and allows duplicates, True or False\n",
    "c)Set is unordered and does not allow duplicates, True or False\n",
    "d)List is unordered and does not allow duplicates, True or False\n",
    "\n",
    "4.Take a string and perform below action for the string\n",
    "a)Check a particular word's existence in your string.\n",
    "b)Count the number of letters in your string\n",
    "c)Replace a particular word with another word\n",
    "d)Convert all to upper case\n",
    "e)print all letters except last 1"
   ]
  },
  {
   "cell_type": "code",
   "execution_count": 26,
   "id": "a8b86e4d",
   "metadata": {},
   "outputs": [
    {
     "data": {
      "text/plain": [
       "list"
      ]
     },
     "execution_count": 26,
     "metadata": {},
     "output_type": "execute_result"
    }
   ],
   "source": [
    "#1.a)Change the last item in your list\n",
    "students=[\"ram\",\"shyam\",\"sita\",\"gita\"]\n",
    "type(students)"
   ]
  },
  {
   "cell_type": "code",
   "execution_count": 27,
   "id": "27fea4d1",
   "metadata": {},
   "outputs": [],
   "source": [
    "students[3]=\"mohan\""
   ]
  },
  {
   "cell_type": "code",
   "execution_count": 28,
   "id": "faa7fe23",
   "metadata": {},
   "outputs": [
    {
     "data": {
      "text/plain": [
       "['ram', 'shyam', 'sita', 'mohan']"
      ]
     },
     "execution_count": 28,
     "metadata": {},
     "output_type": "execute_result"
    }
   ],
   "source": [
    "students"
   ]
  },
  {
   "cell_type": "code",
   "execution_count": null,
   "id": "9f378306",
   "metadata": {},
   "outputs": [],
   "source": [
    "#b)Remove the 3rd item from your list"
   ]
  },
  {
   "cell_type": "code",
   "execution_count": 29,
   "id": "84c1e5ca",
   "metadata": {},
   "outputs": [
    {
     "data": {
      "text/plain": [
       "'sita'"
      ]
     },
     "execution_count": 29,
     "metadata": {},
     "output_type": "execute_result"
    }
   ],
   "source": [
    "students.pop(2)"
   ]
  },
  {
   "cell_type": "code",
   "execution_count": 30,
   "id": "5b9167e1",
   "metadata": {},
   "outputs": [
    {
     "data": {
      "text/plain": [
       "['ram', 'shyam', 'mohan']"
      ]
     },
     "execution_count": 30,
     "metadata": {},
     "output_type": "execute_result"
    }
   ],
   "source": [
    "students"
   ]
  },
  {
   "cell_type": "code",
   "execution_count": null,
   "id": "be165fb9",
   "metadata": {},
   "outputs": [],
   "source": [
    "#c)sort your list on descending"
   ]
  },
  {
   "cell_type": "code",
   "execution_count": 47,
   "id": "b25453ef",
   "metadata": {},
   "outputs": [],
   "source": [
    "num=[2,4,6,4,1,7,8,9]"
   ]
  },
  {
   "cell_type": "code",
   "execution_count": 48,
   "id": "2c7082da",
   "metadata": {},
   "outputs": [
    {
     "data": {
      "text/plain": [
       "list"
      ]
     },
     "execution_count": 48,
     "metadata": {},
     "output_type": "execute_result"
    }
   ],
   "source": [
    "type(num)"
   ]
  },
  {
   "cell_type": "code",
   "execution_count": 52,
   "id": "e66121c3",
   "metadata": {},
   "outputs": [],
   "source": [
    "num.sort(reverse=True)"
   ]
  },
  {
   "cell_type": "code",
   "execution_count": 53,
   "id": "3107041c",
   "metadata": {},
   "outputs": [
    {
     "name": "stdout",
     "output_type": "stream",
     "text": [
      "[9, 8, 7, 6, 4, 4, 2, 1]\n"
     ]
    }
   ],
   "source": [
    "print(num)"
   ]
  },
  {
   "cell_type": "code",
   "execution_count": 60,
   "id": "0f57860a",
   "metadata": {},
   "outputs": [
    {
     "data": {
      "text/plain": [
       "[9, 5, 7, 6, 4, 4, 2, 1]"
      ]
     },
     "execution_count": 60,
     "metadata": {},
     "output_type": "execute_result"
    }
   ],
   "source": [
    "#d)Change the second value in your list by replacing it with 2 new values.\n",
    "num"
   ]
  },
  {
   "cell_type": "code",
   "execution_count": 61,
   "id": "dfc5f285",
   "metadata": {},
   "outputs": [
    {
     "name": "stdout",
     "output_type": "stream",
     "text": [
      "[9, 3, 7, 6, 4, 4, 2, 1]\n"
     ]
    }
   ],
   "source": [
    "num[1]=3\n",
    "print(num)"
   ]
  },
  {
   "cell_type": "code",
   "execution_count": 62,
   "id": "bc353a36",
   "metadata": {},
   "outputs": [
    {
     "name": "stdout",
     "output_type": "stream",
     "text": [
      "[9, 5, 7, 6, 4, 4, 2, 1]\n"
     ]
    }
   ],
   "source": [
    "num[1]=5\n",
    "print(num)"
   ]
  },
  {
   "cell_type": "code",
   "execution_count": 69,
   "id": "01d434b9",
   "metadata": {},
   "outputs": [],
   "source": [
    "#e)Add a new item in the 3rd index without replacing any of the values.\n",
    "num=[9, 5, 7, 6, 4, 4, 2, 1]\n",
    "num.insert(3,10)"
   ]
  },
  {
   "cell_type": "code",
   "execution_count": 70,
   "id": "e0aee121",
   "metadata": {
    "scrolled": true
   },
   "outputs": [
    {
     "name": "stdout",
     "output_type": "stream",
     "text": [
      "[9, 5, 7, 10, 6, 4, 4, 2, 1]\n"
     ]
    }
   ],
   "source": [
    "print(num)"
   ]
  },
  {
   "cell_type": "code",
   "execution_count": 91,
   "id": "2cc016fe",
   "metadata": {},
   "outputs": [
    {
     "name": "stdout",
     "output_type": "stream",
     "text": [
      "('Apple', 'BAnAnA', 'cherry', 'MAngo', 'gRApes', 'kiwi')\n",
      "('Apple', 'BAnAnA', 'cherry', 'MAngo', 'gRApes', 'kiwi', 'orAnge')\n"
     ]
    }
   ],
   "source": [
    "#2.Define a Tuple with couple of items and do the below\n",
    "#a)Add a new item to the Tuple\n",
    "thistuple = (\"Apple\", \"BAnAnA\", \"cherry\",\"MAngo\",\"gRApes\",\"kiwi\")\n",
    "print(thistuple)\n",
    "\n",
    "y = list(thistuple)\n",
    "y.append(\"orAnge\")\n",
    "thistuple = tuple(y)\n",
    "print(thistuple)"
   ]
  },
  {
   "cell_type": "code",
   "execution_count": 92,
   "id": "55409879",
   "metadata": {},
   "outputs": [
    {
     "name": "stdout",
     "output_type": "stream",
     "text": [
      "('Apple', 'cherry', 'MAngo', 'gRApes', 'kiwi', 'orAnge')\n"
     ]
    }
   ],
   "source": [
    "#b)remove the second item from the tuple\n",
    "y = list(thistuple)\n",
    "del(y[1])\n",
    "thistuple = tuple(y)\n",
    "print(thistuple)\n"
   ]
  },
  {
   "cell_type": "code",
   "execution_count": 93,
   "id": "1b44d518",
   "metadata": {},
   "outputs": [
    {
     "name": "stdout",
     "output_type": "stream",
     "text": [
      "Apple\n",
      "cherry\n",
      "MAngo\n",
      "gRApes\n",
      "kiwi\n",
      "orAnge\n"
     ]
    }
   ],
   "source": [
    "#c)Unpack the tuple to different variables.\n",
    "(red, maroon, yellow, green, darkGreen, oRAnge)  = thistuple\n",
    "\n",
    "print(red)\n",
    "print(maroon)\n",
    "print(yellow)\n",
    "print(green)\n",
    "print(darkGreen)\n",
    "print(oRAnge)"
   ]
  },
  {
   "cell_type": "code",
   "execution_count": 94,
   "id": "5faf79af",
   "metadata": {},
   "outputs": [
    {
     "name": "stdout",
     "output_type": "stream",
     "text": [
      "Apple\n",
      "cherry\n",
      "MAngo\n",
      "['gRApes', 'kiwi', 'orAnge']\n"
     ]
    }
   ],
   "source": [
    "#d)From your list items, upack last 3 items to a sigle variable.\n",
    "(A, b, c, *d) = thistuple\n",
    "print(A)\n",
    "print(b)\n",
    "print(c)\n",
    "print(d)\n",
    "\n"
   ]
  },
  {
   "cell_type": "markdown",
   "id": "9c24e02c",
   "metadata": {},
   "source": [
    "3.Answer the below questions\n",
    "a)Dictionary data type allows duplicates, True or False\n",
    "b)Tuple is ordered and allows duplicates, True or False\n",
    "c)Set is unordered and does not allow duplicates, True or False\n",
    "d)List is unordered and does not allow duplicates, True or False\n",
    "\n"
   ]
  },
  {
   "cell_type": "markdown",
   "id": "59d1142d",
   "metadata": {},
   "source": [
    "a)False\n",
    "b)True\n",
    "c)True\n",
    "d)False"
   ]
  },
  {
   "cell_type": "code",
   "execution_count": 75,
   "id": "30158a96",
   "metadata": {},
   "outputs": [
    {
     "name": "stdout",
     "output_type": "stream",
     "text": [
      "True\n"
     ]
    }
   ],
   "source": [
    "#4.Take a string and perform below action for the string\n",
    "#a)Check a particular word's existence in your string.\n",
    "x=\"i know both ram and shyam\"\n",
    "print(\"ram\" in x)"
   ]
  },
  {
   "cell_type": "code",
   "execution_count": 76,
   "id": "b9039e21",
   "metadata": {},
   "outputs": [
    {
     "name": "stdout",
     "output_type": "stream",
     "text": [
      "1\n",
      "2\n",
      "3\n",
      "4\n",
      "5\n",
      "6\n",
      "7\n",
      "8\n",
      "9\n",
      "10\n",
      "11\n",
      "12\n",
      "13\n",
      "14\n",
      "15\n",
      "16\n",
      "17\n",
      "18\n",
      "19\n",
      "20\n"
     ]
    }
   ],
   "source": [
    "#b)Count the number of letters in your string\n",
    "count=0\n",
    "for i in x:\n",
    "    if(i!=\" \"):\n",
    "        count=count+1\n",
    "        print(count)"
   ]
  },
  {
   "cell_type": "code",
   "execution_count": 77,
   "id": "4ba55910",
   "metadata": {},
   "outputs": [
    {
     "data": {
      "text/plain": [
       "'i know both mohan and shyam'"
      ]
     },
     "execution_count": 77,
     "metadata": {},
     "output_type": "execute_result"
    }
   ],
   "source": [
    "#c)Replace a particular word with another word\n",
    "\n",
    "x.replace('ram','mohan')"
   ]
  },
  {
   "cell_type": "code",
   "execution_count": 78,
   "id": "8ac1bac1",
   "metadata": {},
   "outputs": [
    {
     "data": {
      "text/plain": [
       "'I KNOW BOTH RAM AND SHYAM'"
      ]
     },
     "execution_count": 78,
     "metadata": {},
     "output_type": "execute_result"
    }
   ],
   "source": [
    "#d)Convert all to upper case\n",
    "x.upper()"
   ]
  },
  {
   "cell_type": "code",
   "execution_count": 79,
   "id": "abb2ec1e",
   "metadata": {},
   "outputs": [
    {
     "data": {
      "text/plain": [
       "'i know both ram and shya'"
      ]
     },
     "execution_count": 79,
     "metadata": {},
     "output_type": "execute_result"
    }
   ],
   "source": [
    "#e)print all letters except last 1\n",
    "\n",
    "x[:-1]"
   ]
  },
  {
   "cell_type": "code",
   "execution_count": null,
   "id": "40e59711",
   "metadata": {},
   "outputs": [],
   "source": []
  }
 ],
 "metadata": {
  "kernelspec": {
   "display_name": "Python 3",
   "language": "python",
   "name": "python3"
  },
  "language_info": {
   "codemirror_mode": {
    "name": "ipython",
    "version": 3
   },
   "file_extension": ".py",
   "mimetype": "text/x-python",
   "name": "python",
   "nbconvert_exporter": "python",
   "pygments_lexer": "ipython3",
   "version": "3.9.1"
  }
 },
 "nbformat": 4,
 "nbformat_minor": 5
}
