{
 "cells": [
  {
   "cell_type": "raw",
   "id": "5f3bb613",
   "metadata": {},
   "source": [
    "1.Take a String like ‘I am learning Python everyday’ and do the below\n",
    "function on this\n",
    "a)Convert all to upper\n",
    "b)Convert all to Lower\n",
    "c)Count number of letters in string\n",
    "d)Check if ‘Everyday’ exist in string\n",
    "e)Find the position of ‘P’ in the string\n",
    "f)Replace ‘Python’ with ‘python course’\n",
    "g)Print all letters except last one\n",
    "h)Print 5 characters from position 1.\n",
    "i)Fetch 'Python' from the string."
   ]
  },
  {
   "cell_type": "code",
   "execution_count": 51,
   "id": "a22c15f0",
   "metadata": {},
   "outputs": [],
   "source": [
    "g=\"i am learning python everyday\""
   ]
  },
  {
   "cell_type": "code",
   "execution_count": 52,
   "id": "48b30420",
   "metadata": {},
   "outputs": [
    {
     "data": {
      "text/plain": [
       "'I AM LEARNING PYTHON EVERYDAY'"
      ]
     },
     "execution_count": 52,
     "metadata": {},
     "output_type": "execute_result"
    }
   ],
   "source": [
    "#a)Convert all to upper\n",
    "#1928231\n",
    "g.upper()"
   ]
  },
  {
   "cell_type": "code",
   "execution_count": 53,
   "id": "89fe147c",
   "metadata": {},
   "outputs": [
    {
     "data": {
      "text/plain": [
       "'i am learning python everyday'"
      ]
     },
     "execution_count": 53,
     "metadata": {},
     "output_type": "execute_result"
    }
   ],
   "source": [
    "#b)Convert all to Lower\n",
    "g.lower()"
   ]
  },
  {
   "cell_type": "code",
   "execution_count": 54,
   "id": "f9a74b33",
   "metadata": {},
   "outputs": [
    {
     "data": {
      "text/plain": [
       "29"
      ]
     },
     "execution_count": 54,
     "metadata": {},
     "output_type": "execute_result"
    }
   ],
   "source": [
    "#c)Count number of letters in string\n",
    "len(g)"
   ]
  },
  {
   "cell_type": "code",
   "execution_count": 55,
   "id": "74864719",
   "metadata": {},
   "outputs": [
    {
     "name": "stdout",
     "output_type": "stream",
     "text": [
      "False\n"
     ]
    }
   ],
   "source": [
    "#d)Check if ‘Everyday’ exist in string\n",
    "print('Everyday'in g)"
   ]
  },
  {
   "cell_type": "code",
   "execution_count": 56,
   "id": "2a17b910",
   "metadata": {},
   "outputs": [
    {
     "data": {
      "text/plain": [
       "-1"
      ]
     },
     "execution_count": 56,
     "metadata": {},
     "output_type": "execute_result"
    }
   ],
   "source": [
    "#e)Find the position of ‘P’ in the string\n",
    "g.find(\"P\")"
   ]
  },
  {
   "cell_type": "code",
   "execution_count": 57,
   "id": "e387949f",
   "metadata": {},
   "outputs": [
    {
     "data": {
      "text/plain": [
       "'i am learning python everyday'"
      ]
     },
     "execution_count": 57,
     "metadata": {},
     "output_type": "execute_result"
    }
   ],
   "source": [
    "#f)Replace ‘Python’ with ‘python course’\n",
    "g.replace(\"Python\",\"python course\")"
   ]
  },
  {
   "cell_type": "code",
   "execution_count": 58,
   "id": "60ba1e58",
   "metadata": {},
   "outputs": [
    {
     "data": {
      "text/plain": [
       "'i am learning python everyda'"
      ]
     },
     "execution_count": 58,
     "metadata": {},
     "output_type": "execute_result"
    }
   ],
   "source": [
    "#g)Print all letters except last one\n",
    "g[:-1]"
   ]
  },
  {
   "cell_type": "code",
   "execution_count": 59,
   "id": "c7c7ccb0",
   "metadata": {},
   "outputs": [
    {
     "data": {
      "text/plain": [
       "' am l'"
      ]
     },
     "execution_count": 59,
     "metadata": {},
     "output_type": "execute_result"
    }
   ],
   "source": [
    "#h)Print 5 characters from position 1.\n",
    "g[1:6]"
   ]
  },
  {
   "cell_type": "code",
   "execution_count": 60,
   "id": "693d89a7",
   "metadata": {},
   "outputs": [
    {
     "name": "stdout",
     "output_type": "stream",
     "text": [
      "14\n"
     ]
    }
   ],
   "source": [
    "#i)Fetch 'Python' from the string.\n",
    "print(g.find(\"python\"))"
   ]
  },
  {
   "cell_type": "raw",
   "id": "d54663f7",
   "metadata": {},
   "source": [
    "2. Define int, float, str type varibles and convert one type to different types like from int to str."
   ]
  },
  {
   "cell_type": "raw",
   "id": "7b1a9eae",
   "metadata": {},
   "source": [
    "int: represents positive or negative whole numbers like 3 or -512. \n",
    "float: represents real numbers like 3.14159 or -2.5.\n",
    "str: text Written in either single quotes or double quotes "
   ]
  },
  {
   "cell_type": "code",
   "execution_count": 61,
   "id": "e2cc2540",
   "metadata": {},
   "outputs": [],
   "source": [
    "name=\"gulshan\"\n",
    "age=19\n",
    "sgpa=8.9"
   ]
  },
  {
   "cell_type": "code",
   "execution_count": 62,
   "id": "834251c5",
   "metadata": {},
   "outputs": [
    {
     "data": {
      "text/plain": [
       "str"
      ]
     },
     "execution_count": 62,
     "metadata": {},
     "output_type": "execute_result"
    }
   ],
   "source": [
    "type(name)"
   ]
  },
  {
   "cell_type": "code",
   "execution_count": 63,
   "id": "54f26b62",
   "metadata": {},
   "outputs": [
    {
     "data": {
      "text/plain": [
       "int"
      ]
     },
     "execution_count": 63,
     "metadata": {},
     "output_type": "execute_result"
    }
   ],
   "source": [
    "type(age)"
   ]
  },
  {
   "cell_type": "code",
   "execution_count": 64,
   "id": "e2e20d1b",
   "metadata": {},
   "outputs": [
    {
     "data": {
      "text/plain": [
       "float"
      ]
     },
     "execution_count": 64,
     "metadata": {},
     "output_type": "execute_result"
    }
   ],
   "source": [
    "type(sgpa)"
   ]
  },
  {
   "cell_type": "code",
   "execution_count": 65,
   "id": "32a5cff1",
   "metadata": {},
   "outputs": [
    {
     "data": {
      "text/plain": [
       "str"
      ]
     },
     "execution_count": 65,
     "metadata": {},
     "output_type": "execute_result"
    }
   ],
   "source": [
    "strname=str(name)\n",
    "type(strname)"
   ]
  },
  {
   "cell_type": "code",
   "execution_count": 66,
   "id": "785a3fa2",
   "metadata": {},
   "outputs": [
    {
     "data": {
      "text/plain": [
       "str"
      ]
     },
     "execution_count": 66,
     "metadata": {},
     "output_type": "execute_result"
    }
   ],
   "source": [
    "strage=str(age)\n",
    "type(strage)"
   ]
  },
  {
   "cell_type": "code",
   "execution_count": 67,
   "id": "05f2aed8",
   "metadata": {},
   "outputs": [
    {
     "data": {
      "text/plain": [
       "str"
      ]
     },
     "execution_count": 67,
     "metadata": {},
     "output_type": "execute_result"
    }
   ],
   "source": [
    "strsgpa=str(sgpa)\n",
    "type(strsgpa)"
   ]
  },
  {
   "cell_type": "raw",
   "id": "00339ef6",
   "metadata": {},
   "source": [
    "3. Take the input from console and do any sarthmetic operation on the accepted value from console."
   ]
  },
  {
   "cell_type": "code",
   "execution_count": 68,
   "id": "4e471d11",
   "metadata": {},
   "outputs": [],
   "source": [
    "my_income = 100\n",
    "tax_rate = 0.1\n",
    "my_taxes = my_income * tax_rate"
   ]
  },
  {
   "cell_type": "code",
   "execution_count": 69,
   "id": "8e786065",
   "metadata": {},
   "outputs": [
    {
     "name": "stdout",
     "output_type": "stream",
     "text": [
      "10.0\n"
     ]
    }
   ],
   "source": [
    "print(my_taxes)"
   ]
  },
  {
   "cell_type": "code",
   "execution_count": null,
   "id": "15486f9c",
   "metadata": {},
   "outputs": [],
   "source": []
  }
 ],
 "metadata": {
  "kernelspec": {
   "display_name": "Python 3",
   "language": "python",
   "name": "python3"
  },
  "language_info": {
   "codemirror_mode": {
    "name": "ipython",
    "version": 3
   },
   "file_extension": ".py",
   "mimetype": "text/x-python",
   "name": "python",
   "nbconvert_exporter": "python",
   "pygments_lexer": "ipython3",
   "version": "3.9.1"
  }
 },
 "nbformat": 4,
 "nbformat_minor": 5
}
